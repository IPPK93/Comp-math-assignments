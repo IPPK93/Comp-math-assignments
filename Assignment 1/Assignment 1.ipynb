{
 "cells": [
  {
   "cell_type": "markdown",
   "metadata": {},
   "source": [
    "<center> <h1> Задача 1.12 </h1> </center>\n",
    "\n",
    "Определить оптимальный шаг $h = const$ формулы численного дифференцирования\n",
    "\n",
    "$$f'(x) \\approx \\frac{\\left(f(x + h) - f(x - h)\\right)}{2h}, \\quad \\max\\limits_{[x - h, x + h]}{|f'''(x)|} \\leq 100,$$\n",
    "\n",
    "если абсолютная погрешность при задании $f(x), f(x \\pm h)$ не превосходит $\\Delta = 0.1$"
   ]
  },
  {
   "cell_type": "markdown",
   "metadata": {},
   "source": [
    "<center> <h1> Решение </h1> </center>\n",
    "\n",
    "Применяя формулу Тейлора с остаточным членом в форме Лагранжа, получим\n",
    "\n",
    "$$f(x + h) = f(x) + hf'(x) + \\frac{h^2}{2}f''(x) + \\frac{h^3}{3!}f'''(\\xi)$$\n",
    "$$f(x - h) = f(x) - hf'(x) + \\frac{h^2}{2}f''(x) - \\frac{h^3}{3!}f'''(\\zeta)$$\n",
    "\n",
    "Тогда\n",
    "\n",
    "$$\\left|f'(x) - \\frac{f(x + h) - f(x - h)}{2h}\\right| = \\left|f'(x) - \\frac{2hf'(x) + \\frac{Mh^3}{3}}{2h}\\right| = \\frac{|M|h^2}{6},$$\n",
    "\n",
    "где $|M| = \\frac{|f'''(\\xi) + f'''(\\zeta)|}{2} \\leq 100$.\n",
    "\n",
    "Суммарная погрешность равна\n",
    "\n",
    "$$\\frac{h^2|M|}{6} + \\frac{\\Delta}{h}$$\n",
    "\n",
    "Найдём экстремум данной функции\n",
    "$$g'(h) = \\frac{|M|h}{3} - \\frac{\\Delta}{h^2} = 0 \\implies h = \\sqrt[3]{\\frac{3\\Delta}{M}} = 0.1\\sqrt[3]{3}$$\n",
    "\n",
    "### Ответ: $h = 0.1\\sqrt[3]{3}$"
   ]
  },
  {
   "cell_type": "markdown",
   "metadata": {},
   "source": [
    "<center> <h1> Задача 1.17 </h1> </center>\n",
    "\n",
    "Пусть задана последовательность чисел $x_n$,  $n = 0, 1, 2, ... $, причем $x_{n + 1} - 5x_n = 4$ , a $x_0$ известно с относительной погрешностью $10^{-6}$ .\n",
    "При каких значениях $x_0$ относительная погрешность при вычислении $x_n$ будет быстро возрастать с ростом $n$? "
   ]
  },
  {
   "cell_type": "markdown",
   "metadata": {},
   "source": [
    "<center> <h1> Решение </h1> </center>\n",
    "Для соотношения $x_{n + 1} - 5x_n = 4$ можно записать решение для произвольного $n$ в общем виде: $x_n = C5^n - 1$, где константа $C$ определяется из начальных данных: $C = x_0 + 1$. Теперь видно, что $x_0 = -1$ - специальный случай, когда $x_n$ не растут с ростом $n$. Небольшое отклонение приводит к быстро возрастаюшей относительной погрешности.\n",
    "\n",
    "### Ответ: $x_0 = -1$"
   ]
  },
  {
   "cell_type": "markdown",
   "metadata": {},
   "source": [
    "<center> <h1> Задача 2.1.1 </h1> </center>\n",
    "\n",
    "Доказать, что выражение $\\max\\limits_{k} \\left(d_k|x_k|\\right), d_k > 0, k = \\overline{1, n}$, есть норма вектора."
   ]
  },
  {
   "cell_type": "markdown",
   "metadata": {},
   "source": [
    "<center> <h1> Решение </h1> </center>\n",
    "\n",
    "Проверим выполнение трёх условий:\n",
    "\n",
    "1) $$\\max\\limits_{k} \\left(d_k|x_k|\\right) \\geq 0 ; \\quad \\max\\limits_{k} \\left(d_k|x_k|\\right) = 0 \\iff \\forall k \\rightarrow x_k = 0$$\n",
    "2) $$\\max\\limits_{k} \\left(d_k|\\alpha x_k|\\right) = |\\alpha|\\max\\limits_{k} \\left(d_k|x_k|\\right)$$\n",
    "3) $$\\max\\limits_{k} \\left(d_k|x_k + y_k|\\right) \\leq \\max\\limits_{k} \\left(d_k(|x_k| + |y_k|\\right) \\leq \\max\\limits_{k} \\left(d_k|x_k|\\right) + \\max\\limits_{k} \\left(d_k|y_k|\\right)$$"
   ]
  },
  {
   "cell_type": "markdown",
   "metadata": {},
   "source": [
    "<center> <h1> Задача 2.1.19 </h1> </center>\n",
    "\n",
    "Найти норму матрицы $\\textbf{A}$, подчинённую векторной норме $\\sum_{k = 1}^{n}d_k|x_k|, d_k > 0, k = \\overline{1, n}$."
   ]
  },
  {
   "cell_type": "markdown",
   "metadata": {},
   "source": [
    "<center> <h1> Решение </h1> </center>\n",
    "\n",
    "По определению,\n",
    "\n",
    "$$||A|| = \\sup\\limits_{\\vec{x} \\neq 0}\\frac{||\\textbf{A}\\vec{x}||}{||\\vec{x}||}$$\n",
    "<!-- $$\\sup\\limits_{\\vec{x} \\neq 0} \\frac{\\sum_1^n d_k|(\\textbf{A}\\vec{x})_k|}{\\sum_1^n d_k|x_k|} = \\sup\\limits_{\\vec{x} \\neq 0} \\frac{\\sum_{k = 1}^n d_k|\\sum_{j = 1}^n a_{kj}x_j|}{\\sum_1^n d_k|x_k|} = $$\n",
    "$$= \\sup\\limits_{\\vec{x} \\neq 0} \\frac{\\sum_{k = 1}^n\\sum_{j = 1}^n d_k| a_{kj}x_j|}{\\sum_1^n d_k|x_k|} = \\sup\\limits_{\\vec{x} \\neq 0} \\frac{\\sum_{j = 1}^n d_j\\sum_{k = 1}^n | a_{jk}x_k|}{\\sum_1^n d_k|x_k|}$$ -->\n",
    "\n",
    "Заметим, что $$||x|| = ||Dx||_1, \\quad \\text{где } D = \\operatorname{diag}{(d_1, ..., d_n)}$$\n",
    "\n",
    "Тогда получим\n",
    "\n",
    "$$||A|| = \\sup\\limits_{\\vec{x} \\neq 0}\\frac{||\\textbf{A}\\vec{x}||}{||\\vec{x}||} = \\sup\\limits_{\\vec{x} \\neq 0} \\frac{||DAx||_1}{||Dx||_1} \\leq ||DAD^{-1}||_1$$\n",
    "\n",
    "Для того, чтобы показать, что равенство достигается, достаточно взять $\\vec{x} = (\\frac{1}{d_1}, ..., \\frac{1}{d_n})^T = D^{-1}(1, ..., 1)^T$. В этом случае имеем:\n",
    "\n",
    "$$||A|| = \\sup\\frac{||DAD^{-1} (1, ..., 1)^T||_1}{||DD^{-1}(1, ..., 1)^T||_1} = ||DAD^{-1}||_1$$"
   ]
  },
  {
   "cell_type": "markdown",
   "metadata": {},
   "source": [
    "<center> <h1> Задача 2.1.33 </h1> </center> \n",
    "\n",
    "При какой правой части $b$ системы $\\textbf{A}\\vec{x} = \\vec{b}$, $A = \n",
    "\\begin{bmatrix}\n",
    "    9 & 3 \\\\\n",
    "    -3 & -9 \\\\\n",
    "\\end{bmatrix}\n",
    "$ и \n",
    "произвольной погрешности $\\Delta \\vec{b}$ максимальна (минимальна) величина $\\nu_i$ в \n",
    "оценке $\\frac{\\Vert\\Delta \\vec{x}\\Vert_i}{\\Vert\\vec{x}\\Vert_i} \\leq \\nu_i\\frac{\\Vert\\Delta\\vec{b}\\Vert_i}{\\Vert\\vec{b}\\Vert_i}$ относительной ошибки решения? "
   ]
  },
  {
   "cell_type": "markdown",
   "metadata": {},
   "source": [
    "<center> <h1> Решение </h1> </center> \n",
    "\n",
    "По определению,\n",
    "\n",
    "$$\\nu_i = \\frac{\\Vert\\textbf{A}^{-1}\\Vert_i \\Vert\\vec{b}\\Vert_i}{\\Vert\\textbf{A}^{-1}\\vec{b}\\Vert_i}$$\n",
    "\n",
    "$\\textbf{A}^{-1} = \\frac{1}{24}\n",
    "\\begin{bmatrix}\n",
    "    3 & 1 \\\\\n",
    "    -1 & -3 \\\\\n",
    "\\end{bmatrix}$\n",
    "\n",
    "$\\Vert\\textbf{A}^{-1}\\Vert_i = \\frac{1}{6}$, $i = 1, 2, 3$\n",
    "\n",
    "$\\Vert\\textbf{A}^{-1}\\vec{b}\\Vert_1 = \\max\\limits_{\\vec{b} \\neq 0} (|3b_1 + b_2|, |b_1 + 3b_2|)$\n",
    "\n",
    "$\\Vert\\textbf{A}^{-1}\\vec{b}\\Vert_2 = |3b_1 + b_2| + |b_1 + 3b_2|$\n",
    "\n",
    "$\\Vert\\textbf{A}^{-1}\\vec{b}\\Vert_3 = \\sqrt{|3b_1 + b_2|^2 + |b_1 + 3b_2|^2}$\n",
    "\n",
    "WLOG предположим $|b_1| \\geq |b_2|$.\n",
    "\n",
    "Запишем $\\nu_i$:\n",
    "\n",
    "$$\\nu_1 = 4\\frac{\\max\\limits_{\\vec{b} \\neq 0}(|b_1|, |b_2|)}{\\max\\limits_{\\vec{b \\neq 0}} (|3b_1 + b_2|, |b_1 + 3b_2|)}$$\n",
    "\n",
    "$$\\nu_2 = 4\\frac{|b_1| + |b_2|}{|3b_1 + b_2| + |b_1 + 3b_2|}$$\n",
    "\n",
    "$$\\nu_3 = 4\\sqrt{\\frac{b_1^2 + b_2^2}{(3b_1 + b_2)^2 + (b_1 + 3b_2)^2}}$$\n",
    "\n",
    "1) $\\nu_1$:\n",
    "\n",
    "$$ 1   _{b_2 = b_1}\\leq 4\\frac{1}{\\max\\limits_{\\vec{b \\neq 0}} (|3 + \\frac{b_2}{b_1}|, |1 + 3\\frac{b_2}{b_1}|)} \\leq_{b_2 = -b_1} 2)$$\n",
    "\n",
    "2) $\\nu_2$:\n",
    "\n",
    "$$\\nu_2 \\geq 4\\frac{|b_1| + |b_2|}{4|b_1| + 4|b_2|} =_{b_1 = b_2} 1$$\n",
    "\n",
    "$$\\nu_2 \\leq 4\\frac{1 + \\frac{|b_2|}{|b_1|}}{|3 + \\frac{b_2}{b_1}| + |1 + 3\\frac{b_2}{b_1}|} \\leq_{b_2 = -b_1} 2$$\n",
    "\n",
    "3) $\\nu_3$:\n",
    "\n",
    "$$\\nu_3 = 4\\sqrt{\\frac{1}{10 + 6\\frac{2b_1b_2}{b_1^2 + b_2^2}}} \\implies 1 _{b_2 = b_1}\\leq \\nu_3 \\leq_{b_2 = -b_1} 2$$"
   ]
  },
  {
   "cell_type": "markdown",
   "metadata": {},
   "source": [
    "<center> <h1> Задача 2.2.1 </h1> </center>\n",
    "\n",
    "Решить СЛАУ $\\textbf{A}\\vec{x} = \\vec{b}$ методом Гаусса с выбором главного элемента:\n",
    "\n",
    "$\\textbf{A} = \n",
    "\\begin{bmatrix}\n",
    "    1 & 2 & 0 \\\\\n",
    "    3 & 4 & 5 \\\\\n",
    "    0 & 6 & 7 \\\\\n",
    "\\end{bmatrix}\n",
    ",\n",
    "\\vec{b} = \n",
    "\\begin{bmatrix}\n",
    "    5 \\\\\n",
    "    6 \\\\\n",
    "    5 \\\\\n",
    "\\end{bmatrix}\n",
    "\\quad\n",
    "\\textbf{A} = \n",
    "\\begin{bmatrix}\n",
    "    2 & 3 & 0 \\\\\n",
    "    4 & 5 & 6 \\\\\n",
    "    0 & 7 & 8 \\\\\n",
    "\\end{bmatrix}\n",
    ",\n",
    "\\vec{b} = \n",
    "\\begin{bmatrix}\n",
    "    8 \\\\\n",
    "    8 \\\\\n",
    "    6 \\\\\n",
    "\\end{bmatrix}\n",
    "\\quad\n",
    "\\textbf{A} = \n",
    "\\begin{bmatrix}\n",
    "    3 & 4 & 0 \\\\\n",
    "    5 & 6 & 7 \\\\\n",
    "    0 & 8 & 9 \\\\\n",
    "\\end{bmatrix}\n",
    ",\n",
    "\\vec{b} = \n",
    "\\begin{bmatrix}\n",
    "    11 \\\\\n",
    "    10 \\\\\n",
    "    7 \\\\\n",
    "\\end{bmatrix}$"
   ]
  },
  {
   "cell_type": "markdown",
   "metadata": {},
   "source": [
    "<center> <h1> Решение </h1> </center>\n"
   ]
  },
  {
   "cell_type": "code",
   "execution_count": 1,
   "metadata": {},
   "outputs": [],
   "source": [
    "import numpy as np\n",
    "from system import System\n",
    "\n",
    "\n",
    "%load_ext autoreload\n",
    "%autoreload 2"
   ]
  },
  {
   "cell_type": "code",
   "execution_count": 2,
   "metadata": {},
   "outputs": [],
   "source": [
    "A_1 = np.array(\n",
    "    [\n",
    "        [1, 2, 0],\n",
    "        [3, 4, 5],\n",
    "        [0, 6, 7]\n",
    "    ]\n",
    ")\n",
    "b_1 = np.array(\n",
    "    [5, 6, 5]\n",
    ")"
   ]
  },
  {
   "cell_type": "code",
   "execution_count": 3,
   "metadata": {},
   "outputs": [
    {
     "data": {
      "text/plain": [
       "array([ 1.,  2., -1.])"
      ]
     },
     "execution_count": 3,
     "metadata": {},
     "output_type": "execute_result"
    }
   ],
   "source": [
    "slae = System(A_1, b_1)\n",
    "x_1 = slae.solve_gauss()\n",
    "x_1"
   ]
  },
  {
   "cell_type": "code",
   "execution_count": 4,
   "metadata": {},
   "outputs": [],
   "source": [
    "A_2 = np.array(\n",
    "    [\n",
    "        [2, 3, 0],\n",
    "        [4, 5, 6],\n",
    "        [0, 7, 8]\n",
    "    ]\n",
    ")\n",
    "b_2 = np.array(\n",
    "    [8, 8, 6]\n",
    ")"
   ]
  },
  {
   "cell_type": "code",
   "execution_count": 5,
   "metadata": {},
   "outputs": [
    {
     "data": {
      "text/plain": [
       "array([ 1.,  2., -1.])"
      ]
     },
     "execution_count": 5,
     "metadata": {},
     "output_type": "execute_result"
    }
   ],
   "source": [
    "slae = System(A_2, b_2)\n",
    "x_2 = slae.solve_gauss()\n",
    "x_2"
   ]
  },
  {
   "cell_type": "code",
   "execution_count": 6,
   "metadata": {},
   "outputs": [],
   "source": [
    "A_3 = np.array(\n",
    "    [\n",
    "        [3, 4, 0],\n",
    "        [5, 6, 7],\n",
    "        [0, 8, 9]\n",
    "    ]\n",
    ")\n",
    "b_3 = np.array(\n",
    "    [11, 10, 7]\n",
    ")"
   ]
  },
  {
   "cell_type": "code",
   "execution_count": 7,
   "metadata": {},
   "outputs": [
    {
     "data": {
      "text/plain": [
       "array([ 1.,  2., -1.])"
      ]
     },
     "execution_count": 7,
     "metadata": {},
     "output_type": "execute_result"
    }
   ],
   "source": [
    "slae = System(A_3, b_3)\n",
    "x_3 = slae.solve_gauss()\n",
    "x_3"
   ]
  },
  {
   "cell_type": "markdown",
   "metadata": {},
   "source": [
    "<center> <h1> Задача 2.2.13 </h1> </center>\n",
    "\n",
    "Решить СЛАУ $\\textbf{A}\\vec{x} = \\vec{b}$ методом ортогонализации по строкам:\n",
    "\n",
    "$\\textbf{A} = \n",
    "\\begin{bmatrix}\n",
    "    1 & 2 \\\\\n",
    "    3 & 4 \\\\\n",
    "\\end{bmatrix}\n",
    ",\n",
    "\\vec{b} = \n",
    "\\begin{bmatrix}\n",
    "    3 \\\\\n",
    "    5 \\\\\n",
    "\\end{bmatrix}\n",
    "\\quad\n",
    "\\textbf{A} = \n",
    "\\begin{bmatrix}\n",
    "    3 & 4 \\\\\n",
    "    5 & 6 \\\\\n",
    "\\end{bmatrix}\n",
    ",\n",
    "\\vec{b} = \n",
    "\\begin{bmatrix}\n",
    "    2 \\\\\n",
    "    4 \\\\\n",
    "\\end{bmatrix}\n",
    "\\quad\n",
    "\\textbf{A} = \n",
    "\\begin{bmatrix}\n",
    "    5 & 6 \\\\\n",
    "    7 & 8 \\\\\n",
    "\\end{bmatrix}\n",
    ",\n",
    "\\vec{b} = \n",
    "\\begin{bmatrix}\n",
    "    9 \\\\\n",
    "    13 \\\\\n",
    "\\end{bmatrix}$"
   ]
  },
  {
   "cell_type": "markdown",
   "metadata": {},
   "source": [
    "<center> <h1> Решение </h1> </center>"
   ]
  },
  {
   "cell_type": "code",
   "execution_count": 8,
   "metadata": {},
   "outputs": [],
   "source": [
    "A_1 = np.array(\n",
    "    [\n",
    "        [1, 2],\n",
    "        [3, 4]\n",
    "    ]\n",
    ")\n",
    "b_1 = np.array(\n",
    "    [3, 5]\n",
    ")"
   ]
  },
  {
   "cell_type": "code",
   "execution_count": 9,
   "metadata": {},
   "outputs": [
    {
     "name": "stdout",
     "output_type": "stream",
     "text": [
      "[-1.  2.]\n"
     ]
    }
   ],
   "source": [
    "slae = System(A_1, b_1)\n",
    "x_1 = slae.solve_ortogonalization()\n",
    "print(x_1)"
   ]
  },
  {
   "cell_type": "code",
   "execution_count": 10,
   "metadata": {},
   "outputs": [],
   "source": [
    "A_2 = np.array(\n",
    "    [\n",
    "        [3, 4],\n",
    "        [5, 6]\n",
    "    ]\n",
    ")\n",
    "b_2 = np.array(\n",
    "    [2, 4]\n",
    ")"
   ]
  },
  {
   "cell_type": "code",
   "execution_count": 11,
   "metadata": {},
   "outputs": [
    {
     "name": "stdout",
     "output_type": "stream",
     "text": [
      "[ 2. -1.]\n"
     ]
    }
   ],
   "source": [
    "slae = System(A_2, b_2)\n",
    "x_2 = slae.solve_ortogonalization()\n",
    "print(x_2)"
   ]
  },
  {
   "cell_type": "code",
   "execution_count": 12,
   "metadata": {},
   "outputs": [],
   "source": [
    "A_3 = np.array(\n",
    "    [\n",
    "        [5, 6],\n",
    "        [7, 8]\n",
    "    ]\n",
    ")\n",
    "b_3 = np.array(\n",
    "    [9, 13]\n",
    ")"
   ]
  },
  {
   "cell_type": "code",
   "execution_count": 13,
   "metadata": {},
   "outputs": [
    {
     "name": "stdout",
     "output_type": "stream",
     "text": [
      "[ 3. -1.]\n"
     ]
    }
   ],
   "source": [
    "slae = System(A_3, b_3)\n",
    "x_3 = slae.solve_ortogonalization()\n",
    "print(x_3)"
   ]
  },
  {
   "cell_type": "markdown",
   "metadata": {},
   "source": [
    "<center> <h1> Задача 2.3.2 </h1> </center>\n",
    "\n",
    "Произвести одну итерацию решения СЛАУ $\\textbf{A}\\vec{x} = \\vec{b}$, $\\vec{b} = (-1, 1, 1, -1)^T$, с начальным приближением $\\vec{x}^{(0)} = (1, 1, 1, 1)^T$ методом Зейделя:\n",
    "\n",
    "$\\textbf{A} = \n",
    "\\begin{bmatrix}\n",
    "    2  & -1 &    &    \\\\\n",
    "    -1 & 2  & -1  &    \\\\\n",
    "       & -1 & 2  & -1 \\\\\n",
    "       &    & -1 & 2  \\\\\n",
    "\\end{bmatrix}\n",
    "\\quad\n",
    "\\textbf{A} = \n",
    "\\begin{bmatrix}\n",
    "    1  & -1 &    &    \\\\\n",
    "    -1 & 2  & -1  &    \\\\\n",
    "       & -1 & 2  & -1 \\\\\n",
    "       &    & -1 & 2  \\\\\n",
    "\\end{bmatrix}\n",
    "\\quad\n",
    "\\textbf{A} = \n",
    "\\begin{bmatrix}\n",
    "    2  & -1 &    & 1  \\\\\n",
    "    -1 & 2  & -1  &    \\\\\n",
    "       & -1 & 2  & -1 \\\\\n",
    "    1  &    & -1 & 2  \\\\\n",
    "\\end{bmatrix}\n",
    "$"
   ]
  },
  {
   "cell_type": "markdown",
   "metadata": {},
   "source": [
    "<center> <h1> Решение </h1> </center>"
   ]
  },
  {
   "cell_type": "code",
   "execution_count": 14,
   "metadata": {},
   "outputs": [],
   "source": [
    "b = np.array(\n",
    "    [-1, 1, 1, -1]\n",
    ")\n",
    "x_0 = np.array(\n",
    "    [1, 1, 1, 1]\n",
    ")"
   ]
  },
  {
   "cell_type": "code",
   "execution_count": 15,
   "metadata": {},
   "outputs": [],
   "source": [
    "A_1 = np.array(\n",
    "    [\n",
    "        [2, -1, 0, 0],\n",
    "        [-1, 2, -1, 0],\n",
    "        [0, -1, 2, -1],\n",
    "        [0, 0, -1, 2]\n",
    "    ]\n",
    ")\n",
    "A_2 = np.array(\n",
    "    [\n",
    "        [1, -1, 0, 0],\n",
    "        [-1, 2, -1, 0],\n",
    "        [0, -1, 2, -1],\n",
    "        [0, 0, -1, 2]\n",
    "    ]\n",
    ")\n",
    "A_3 = np.array(\n",
    "    [\n",
    "        [2, -1, 0, 1],\n",
    "        [-1, 2, -1, 0],\n",
    "        [0, -1, 2, -1],\n",
    "        [1, 0, -1, 2]\n",
    "    ]\n",
    ")"
   ]
  },
  {
   "cell_type": "code",
   "execution_count": 16,
   "metadata": {},
   "outputs": [
    {
     "data": {
      "text/plain": [
       "array([0.  , 1.  , 1.5 , 0.25])"
      ]
     },
     "execution_count": 16,
     "metadata": {},
     "output_type": "execute_result"
    }
   ],
   "source": [
    "slae = System(A_1, b)\n",
    "slae.solve_seidel(x_0 = x_0, iter_num = 1)"
   ]
  },
  {
   "cell_type": "code",
   "execution_count": 17,
   "metadata": {},
   "outputs": [
    {
     "data": {
      "text/plain": [
       "array([0.  , 1.  , 1.5 , 0.25])"
      ]
     },
     "execution_count": 17,
     "metadata": {},
     "output_type": "execute_result"
    }
   ],
   "source": [
    "slae = System(A_2, b)\n",
    "slae.solve_seidel(x_0 = x_0, iter_num = 1)"
   ]
  },
  {
   "cell_type": "code",
   "execution_count": 18,
   "metadata": {},
   "outputs": [
    {
     "data": {
      "text/plain": [
       "array([-0.5   ,  0.75  ,  1.375 ,  0.4375])"
      ]
     },
     "execution_count": 18,
     "metadata": {},
     "output_type": "execute_result"
    }
   ],
   "source": [
    "slae = System(A_3, b)\n",
    "slae.solve_seidel(x_0 = x_0, iter_num = 1)"
   ]
  },
  {
   "cell_type": "markdown",
   "metadata": {},
   "source": [
    "<center> <h1> Задача 2.3.7 </h1> </center>\n",
    "\n",
    "Будет ли метод Зейделя решения СЛАУ $\\textbf{A}\\vec{x} = \\vec{b}$,\n",
    "\n",
    "$\\textbf{A} = \n",
    "\\begin{bmatrix}\n",
    "    10 & -1 &  2 & -3 \\\\\n",
    "    -1 & 10 & -2 &  3 \\\\\n",
    "     2 & -2 & 10 & -3 \\\\\n",
    "    -3 &  3 & -3 & 10 \\\\\n",
    "\\end{bmatrix}\n",
    ",\n",
    "\\vec{b} = \n",
    "\\begin{bmatrix}\n",
    "    1 \\\\\n",
    "    2 \\\\\n",
    "    3 \\\\\n",
    "    4 \\\\\n",
    "\\end{bmatrix}\n",
    "\\quad\n",
    "\\textbf{A} = \n",
    "\\begin{bmatrix}\n",
    "    10 & -1 &  2 & -3 \\\\\n",
    "    -1 & 10 & -2 &  3 \\\\\n",
    "     2 & -2 & 10 & -3 \\\\\n",
    "    -3 &  3 & -3 & 10 \\\\\n",
    "\\end{bmatrix}\n",
    ",\n",
    "\\vec{b} = \n",
    "\\begin{bmatrix}\n",
    "    4 \\\\\n",
    "    3 \\\\\n",
    "    2 \\\\\n",
    "    1 \\\\\n",
    "\\end{bmatrix}\n",
    "$\n",
    "\n",
    "сходящимся при начальном приближении $\\vec{x}^{(0)} = (4, 3, 2, 1)^T$?"
   ]
  },
  {
   "cell_type": "markdown",
   "metadata": {},
   "source": [
    "<center> <h1> Решение </h1> </center>\n",
    "\n",
    "Заметим, что $A = A^T$. Проверим положительную определённость $A$ с помощью критерия Сильвестра:\n",
    "\n",
    "$$\\Delta_1 = 10 > 0$$\n",
    "\n",
    "\n",
    "$$\\Delta_2 = \n",
    "\\begin{vmatrix}\n",
    "    10 & -1 \\\\\n",
    "    -1 & 10 \\\\\n",
    "\\end{vmatrix} = 99 > 0$$\n",
    "\n",
    "$$\\Delta_3 = \n",
    "\\begin{vmatrix}\n",
    "    10 & -1 &  2 \\\\\n",
    "    -1 & 10 & -2 \\\\\n",
    "     2 & -2 & 10 \\\\\n",
    "\\end{vmatrix} = 1000 + 8 - 40 - 10 - 40 > 0$$\n",
    "\n",
    "$$\\Delta_4 = \n",
    "\\begin{vmatrix}\n",
    "    10 & -1 &  2 & -3 \\\\\n",
    "    -1 & 10 & -2 &  3 \\\\\n",
    "     2 & -2 & 10 & -3 \\\\\n",
    "    -3 &  3 & -3 & 10 \\\\\n",
    "\\end{vmatrix}$$\n",
    "\n",
    "$\\Delta_4$ считать вручную считать придётся долго (мы можем предложить метод разложения по столбцам/строкам), поэтому пусть его посчитает программа."
   ]
  },
  {
   "cell_type": "code",
   "execution_count": 19,
   "metadata": {},
   "outputs": [
    {
     "data": {
      "text/latex": [
       "$\\displaystyle \\Delta_4 = 7317$"
      ],
      "text/plain": [
       "<IPython.core.display.Math object>"
      ]
     },
     "metadata": {},
     "output_type": "display_data"
    }
   ],
   "source": [
    "from IPython.display import display, Math\n",
    "\n",
    "A = np.array(\n",
    "    [\n",
    "        [10, -1, 2, -3],\n",
    "        [-1, 10, -2, 3],\n",
    "        [2, -2, 10, -3],\n",
    "        [-3, 3, -3, 10]\n",
    "    ]\n",
    ")\n",
    "display(Math(f\"\\Delta_4 = {np.linalg.det(A):.0f}\"))"
   ]
  },
  {
   "cell_type": "markdown",
   "metadata": {},
   "source": [
    "То есть $\\Delta_4 > 0$. В таком случае, из критерия Сильвестра следует, что $\\textbf{A}$ - положительно определённая матрица. Тогда $\\textbf{A}\\vec{x} = \\vec{b}$ сходится $\\forall \\vec{x}^{(0)} \\forall \\vec{b}$."
   ]
  },
  {
   "cell_type": "markdown",
   "metadata": {},
   "source": [
    "<center> <h1> Задача 2.3.13 </h1> </center>\n",
    "\n",
    "При каких значениях $\\alpha$, $\\beta$ выполняется необходимое и достаточное условие сходимости метода Зейделя решения СЛАУ $\\textbf{A}\\vec{x} = \\vec{b}$?\n",
    "\n",
    "$\\textbf{A} =\n",
    "\\begin{bmatrix}\n",
    "    \\alpha & \\beta & \\alpha \\\\\n",
    "    \\beta & \\alpha & \\beta \\\\\n",
    "    0 & \\beta & \\alpha\n",
    "\\end{bmatrix}\n",
    "\\quad\n",
    "\\textbf{A} = \n",
    "\\begin{bmatrix}\n",
    "    0 & \\beta & \\alpha \\\\\n",
    "    \\beta & \\alpha & \\beta \\\\\n",
    "    \\alpha & \\beta & \\alpha\n",
    "\\end{bmatrix}\n",
    "$"
   ]
  },
  {
   "cell_type": "markdown",
   "metadata": {},
   "source": [
    "<center> <h1> Решение </h1> </center>\n",
    "\n",
    "$$\\forall \\lambda : \\det(\\lambda(\\textbf{L} + \\textbf{D}) + \\textbf{U}) = 0 \\rightarrow |\\lambda| < 1$$\n",
    "\n",
    "1)\n",
    "$$\n",
    "\\begin{vmatrix}\n",
    "    \\lambda\\alpha & \\beta & \\alpha \\\\\n",
    "    \\lambda\\beta & \\lambda\\alpha & \\beta \\\\\n",
    "    0 & \\lambda\\beta & \\lambda\\alpha\n",
    "\\end{vmatrix} = 0 \\implies \\lambda^3\\alpha^3  + \\lambda^2(\\alpha\\beta^2 - 2\\alpha\\beta^2) = \\alpha^3\\lambda^2(\\lambda - \\frac{\\beta^2}{\\alpha^2}) = 0 \\implies \\lambda_{1, 2} = 0, \\lambda_3 = \\frac{\\beta^2}{\\alpha^2} < 1 \\implies |\\beta| < |\\alpha| \n",
    "$$\n",
    "\n",
    "2)\n",
    "$$\n",
    "\\begin{vmatrix}\n",
    "    0 & \\beta & \\alpha \\\\\n",
    "    \\lambda\\beta & \\lambda\\alpha & \\beta \\\\\n",
    "    \\lambda\\alpha & \\lambda\\beta & \\lambda\\alpha\n",
    "\\end{vmatrix} = 0 \\implies \\alpha\\lambda(\\beta^2 + \\lambda\\beta^2 - \\lambda\\alpha^2 - \\lambda\\beta^2) = 0 \\implies \\lambda_{1} = 0, \\lambda_2 = \\frac{\\beta^2}{\\alpha^2} < 1 \\implies |\\beta| < |\\alpha|\n",
    "$$"
   ]
  },
  {
   "cell_type": "markdown",
   "metadata": {},
   "source": [
    "<center> <h1> Задача 2.3.19 </h1> </center>\n",
    "\n",
    "Будет ли метод $\\vec{x}^{(m + 1)} = (\\textbf{E} - \\tau\\textbf{A})\\vec{x}^{(m)} + \\tau\\vec{b}$ решения задач\n",
    "\n",
    "$\\textbf{A} = \n",
    "\\begin{bmatrix}\n",
    "    2 & -1 & 0 \\\\\n",
    "    -1 & 2 & -1 \\\\\n",
    "    0 & -1 & 2 \\\\\n",
    "\\end{bmatrix}\n",
    "\\quad\n",
    "\\textbf{A} = \n",
    "\\begin{bmatrix}\n",
    "    2 & -1 & -1 \\\\\n",
    "    -1 & 2 & -1 \\\\\n",
    "    1 & -1 & 2 \\\\\n",
    "\\end{bmatrix}\n",
    "\\quad\n",
    "\\textbf{A} = \n",
    "\\begin{bmatrix}\n",
    "    1 & -1 & -1 \\\\\n",
    "    -1 & 1 & -2 \\\\\n",
    "    1 & -2 & 1 \\\\\n",
    "\\end{bmatrix}\n",
    "$\n",
    "\n",
    "для $\\forall \\vec{x}^{(0)}$ сходиться при $\\tau = \\frac{1}{2}$?"
   ]
  },
  {
   "cell_type": "markdown",
   "metadata": {},
   "source": [
    "<center><h1> Решение </h1></center>\n",
    "\n",
    "1) Заметим, что $\\lambda = 2$ - собственное число матрицы $\\textbf{A}$. Тогда $2 + \\lambda_2 + \\lambda_3 = 6$, $\\det(A) = 2\\lambda_2\\lambda_3 = 4$ $\\implies$ $\\lambda_{2, 3} = 2 \\pm \\sqrt{2} $. То есть имеем\n",
    "$$0 < \\tau = \\frac{1}{2} = \\frac{2}{4} < \\frac{1}{2 + \\sqrt{2}}$$\n",
    "откуда следует, что метод будет сходиться $\\forall \\vec{x}^{(0)}$.\n",
    "\n",
    "2) Заметим, что $\\lambda_{1} = 1, \\lambda_2 = 3$. Тогда $\\lambda_3 = 2$. $\\forall \\lambda :|1 - \\tau\\lambda| \\leq \\frac{1}{2} < 1 $, т.е. метод сходится $\\forall \\vec{x}^{(0)}$.\n",
    "\n",
    "3) Заметим, что $\\lambda = -1$ - собственное число матрицы $\\textbf{A}$. Методом подбора находим, что $\\lambda = 1$ тоже является собственным числом рассматриваемой матрицы. Тогда $\\lambda_3 = 3$. Для $\\lambda = -1$ выполняется $|1 - \\tau\\lambda| = \\frac{3}{2} \\nless 1$, т.е. метод $\\underline{не}$ будет сходиться $\\forall \\vec{x}^{(0)}$."
   ]
  },
  {
   "cell_type": "markdown",
   "metadata": {},
   "source": [
    "___\n",
    "\n",
    "__Определение (S(c + 0))__: Пусть $c$ – действительное число и $f(c) \\neq 0$. Через выражение $S(c + 0)$ обозначим число перемен знаков в последовательности функции и её производных $\\{f_x^{(i)}(c)\\}_{i = 0}^n$ в точке $c$, где $f_x^{(i)}(c + 0) = 0$ присваивается знак в точке $x$, сколь угодно близкой к $c$ справа, а $f_x^{(i)}(c - 0) = 0$ - слева.\n",
    "\n",
    "__Определение (ряд Штурма)__: На отрезке действительной оси $[a, b]$ составим последовательность $(f_i)_{i = 0}^n, f_0 = f(x), f_1 = f_x'(x), f_2 = -Res\\{f_0/f_1\\}, \\dots, f_n = -Res\\{f_{n - 2}/f_{n - 1}\\}$, где $Res\\{f_p(x)/f_q(x)\\}$ - остаток от деления многочлена $f_p(x)$ на многочлен $f_q(x)$, и назовём её рядом Штурма.\n",
    "\n",
    "__Теорема (Декарта)__: Число положительных действительных корней уравнения $f(z) = a_0z^n + \\dots + a_n = 0$ с учётом их кратности либо равно числу перемен знаков в последовательности $\\{a_i\\}_{i = 0}^n$, коэффициентов, причём коэффициенты, равные нулю, не учитываются, либо меньше этого числа на чётное число.\n",
    "\n",
    "\n",
    "\n",
    "__Теорема (Бюдана-Фурье)__: Если $a$ и $b$ ($a < b$) не являются корнями уравнения $f(z) = a_0z^n + \\dots + a_n = 0$, то число действительных корней этого уравнения с учётом их кратности на $[a, b]$ равняется разности между числом перемен знаков в последовательностях $S(a + 0)$ и $S(b - 0)$ или меньше этого числа на чётное число\n",
    "$$\\Delta = S(a + 0) - S(b - 0).$$\n",
    "\n",
    "__Теорема (Штурма)__: Число действительных корней уравнения $f(z) = a_0z^n + \\dots + a_n = 0$ на $[a, b]$, если среди них нет кратных, равняется разности между числом перемены знаков в ряде Штурма при $x = a$ и $x = b$.\n",
    "___"
   ]
  },
  {
   "cell_type": "markdown",
   "metadata": {},
   "source": [
    "<center> <h1> Задача 3.1.1 </h1> </center>\n",
    "\n",
    "Определить число действительных корней с использованием: \n",
    "<style type=\"text/css\">\n",
    "    ol { list-style-type: upper-alpha; }\n",
    "</style>    \n",
    "    а) теоремы Декарта\n",
    "    б) теоремы Бюдана–Фурье\n",
    "    в) теоремы Штурма\n",
    "\n",
    "и локализовать их для $f(x) = 20x^3 - 4x^2 - 5x + 1 = 0$."
   ]
  },
  {
   "cell_type": "markdown",
   "metadata": {},
   "source": [
    "<center> <h1> Решение </h1> </center>\n",
    "\n",
    "<p>a)</p>\n",
    "    По теореме Декарта число положительных действительных корней равно корней числу перемен знаков в последовательности {20, -4, -5, 1}, т.е. 2. Их могло вообще не быть (т.е. быть на 2 меньше), но в точке $x = 1/2$ точно находится 1 корень, а значит их 2. В силу основной теоремы алгебры, на отрицательной оси также должен быть 1 корень. Т.е. $f(x)$ имеет 3 действительных корня.\n",
    "\n",
    "<p>б)</p>\n",
    "    Несложно показать, что все корни уравнения $f(x) = 0$ находятся на отрезке $[-1, 1]$. Возьмём производные:\n",
    "    $$f_x' = 60x^2 - 8x - 5 \\implies f_x'(-1) > 0 \\wedge f_x'(1) > 0$$\n",
    "    $$f_{xx}'' = 120x - 8 \\implies f_{xx}''(-1) < 0 \\wedge f_{xx}''(1) > 0$$\n",
    "    $$f_{xxx}''' = 120 \\implies f_{xxx}'''(-1) = f_{xxx}'''(1) > 0$$\n",
    "    То есть $\\Delta = 3 - 0 = 3$. Два корня ($x = 0.5$ и некий корень на $[-1, 0]$) точно есть, тогда и третий корень находится на заданном промежутке.\n",
    "\n",
    "<p>в)</p>\n",
    "    Составим ряд Штурма:\n",
    "    $$f_0 = f(x) = 20x^3 - 4x^2 - 5x + 1 \\quad f_1 = f'(x) = 60x^2 - 8x - 5$$\n",
    "    $$f_2 = \\frac{158}{45}x - \\frac{8}{9} \\quad f_3 = C > 0$$\n",
    "    Для них имеем:\n",
    "    $$f_0(-1) < 0 \\wedge f_0(1) > 0 \\quad f_1(-1) > 0 \\wedge f_1(1) > 0$$\n",
    "    $$f_2(-1) < 0 \\wedge f_2(1) > 0 \\quad f_3(-1) = f_3(1) > 0$$\n",
    "    То есть $\\Delta = 3 - 0 = 3$ корня на отрезке $[-1, 1]$."
   ]
  },
  {
   "cell_type": "markdown",
   "metadata": {},
   "source": [
    "<center> <h1> Задача 3.2.2 </h1> </center>\n",
    "Локализовать первый положительный корень уравнения $\\cos(x) = \\frac{1}{x}$ . Предложить метод простой итерации для вычисления этого корня и проверить выполнение условия сходимости в области локализации. "
   ]
  },
  {
   "cell_type": "markdown",
   "metadata": {},
   "source": [
    "<center> <h1> Решение </h1> </center>\n",
    "\n",
    "Зададим функцию $f(x) = \\cos x - 1/x$. Графически убедимся, что 1-ый положительный корень лежит в промежутке $[\\pi, 2\\pi]$. Для метода простой итерации рассмотрим функцию $x = 2\\pi - \\arccos(1/x)$. Для функции $\\phi(x) = 2\\pi - \\arccos(1/x)$ имеем $|\\phi'(x)| = \\left|\\frac{1}{\\sqrt{1 - \\frac{1}{x^2}}}\\frac{1}{x^2}\\right| = \\frac{1}{x\\sqrt{x^2 - 1}} \\leq \\frac{1}{\\pi^2 - 1} < 1$, т.е. такой итерационный процесс сойдётся.\n",
    "\n",
    "Теперь предоставим код."
   ]
  },
  {
   "cell_type": "code",
   "execution_count": 20,
   "metadata": {},
   "outputs": [
    {
     "name": "stdout",
     "output_type": "stream",
     "text": [
      "4.917185925287132\n"
     ]
    }
   ],
   "source": [
    "from iter_process import iter_process\n",
    "\n",
    "x = iter_process(lambda x: 2 * np.pi - np.arccos(1/x), x_0 = 2 * np.pi, iter_num = 20)\n",
    "print(x)"
   ]
  },
  {
   "cell_type": "markdown",
   "metadata": {},
   "source": [
    "<center> <h1> Задача 3.2.12 </h1> </center>\n",
    "\n",
    "Уравнение ${\\rm e}^x = x^2$ среди своих корней имеет корень $x_{*} \\approx -0.7$. Для нахождения корня предлагается использовать один из следующих методов простой итерации: \n",
    "\n",
    "1. $x_{n + 1} = 2\\ln(-x_n)$\n",
    "2. $x_{n + 1} = -\\sqrt{{\\rm e}^{x_n}}$\n",
    "3. $x_{n + 1} = {\\rm e}^{x_n}/x_n$\n",
    "4. $x_{n + 1} = \\frac{1}{6}x_n - \\frac{5}{6}{\\rm e}^{\\frac{x_n}{2}}$.\n",
    "\n",
    "Оценить скорость сходимости каждого метода и выбрать наилучший."
   ]
  },
  {
   "cell_type": "markdown",
   "metadata": {},
   "source": [
    "<center> <h1> Решение </h1> </center>\n",
    "\n",
    "Рассмотрим функции $f_1(x) = 2\\ln(-x)$, $f_2(x) = -\\sqrt{{\\rm e}^{x}}$, $f_3(x) = {\\rm e}^x/x$, $f_4(x) = \\frac{1}{6}x - \\frac{5}{6}{\\rm e}^{\\frac{x}{2}}$. Для них имеем\n",
    "$$|f_1'(x_{*})| = -\\frac{2}{x_{*}} > 1$$\n",
    "$$|f_2'(x_*)| = \\frac{1}{2}{\\rm e}^{\\frac{x_*}{2}} \\approx 0.248$$\n",
    "$$|f_3'(x_*)| = e^{x_*}\\left(\\frac{1}{x_*^2} - \\frac{1}{x_*}\\right) > 1$$\n",
    "$$|f_4'(x_*)| = \\frac{5}{12}{\\rm e}^{\\frac{x}{2}} - \\frac{1}{6} \\approx 0.127$$\n",
    "\n",
    "То есть первый и третий методы не сходятся в окрестности корня $x_* \\approx 0.7$, а наибольшую скорость сходимости обеспечивает четвёртый метод.\n",
    "\n",
    "Приведём код, демонстрирующий выкладки."
   ]
  },
  {
   "cell_type": "code",
   "execution_count": 21,
   "metadata": {},
   "outputs": [
    {
     "name": "stdout",
     "output_type": "stream",
     "text": [
      "iter_num: 5 \n",
      "f_1: -1.4445191744260453 \n",
      "f_2: -0.7034861016311978 \n",
      "f_3: -0.7548319969736612 \n",
      "f_4: -0.7034675347739221\n",
      "\n",
      "iter_num: 20 \n",
      "f_2: -0.7034674224954771 \n",
      "f_4: -0.7034674224983917\n",
      "\n",
      "true root: -0.70346742249839165\n"
     ]
    }
   ],
   "source": [
    "x_0 = -0.7\n",
    "iter_num = 5\n",
    "\n",
    "x_1 = iter_process(lambda x: 2 * np.log(-x), x_0, iter_num)\n",
    "x_2 = iter_process(lambda x: -np.sqrt(np.exp(x)), x_0, iter_num)\n",
    "x_3 = iter_process(lambda x: np.exp(x)/x, x_0, iter_num)\n",
    "x_4 = iter_process(lambda x: x/6 - 5 * np.exp(x/2)/6, x_0, iter_num)\n",
    "print(\"iter_num: {} \\nf_1: {} \\nf_2: {} \\nf_3: {} \\nf_4: {}\".format(iter_num, x_1, x_2, x_3, x_4), end = '\\n\\n')\n",
    "\n",
    "iter_num = 20\n",
    "x_2 = iter_process(lambda x: -np.sqrt(np.exp(x)), x_0, iter_num)\n",
    "x_4 = iter_process(lambda x: x/6 - 5 * np.exp(x/2)/6, x_0, iter_num)\n",
    "print(\"iter_num: {} \\nf_2: {} \\nf_4: {}\".format(iter_num, x_2, x_4), end = '\\n\\n')\n",
    "\n",
    "print(\"true root: -0.70346742249839165\")"
   ]
  },
  {
   "cell_type": "markdown",
   "metadata": {},
   "source": [
    "<center> <h1> Задача 3.2.22 </h1> </center>\n",
    "\n",
    "Отделить действительные корни, выбрать точку начального приближения, написать итерационную формулу метода Ньютона для уточнения одного из действительных корней уравнения, проверить выполнение условий сходимости и привести оценку достижения заданной точности при вычислениях $x^2 - \\cos x = 0$."
   ]
  },
  {
   "cell_type": "markdown",
   "metadata": {},
   "source": [
    "<center> <h1> Решение </h1> </center>\n",
    "\n",
    "Графически убеждаемся, что уравнение имеет только 2 корня в промежутках $[-\\frac{\\pi}{2}, -\\frac{\\pi}{6}]$ и $[\\frac{\\pi}{6}, \\frac{\\pi}{2}]$. Уточним значение положительного корня. Точку начального приближения выберем так, чтобы $f(x_0) \\cdot f''(x_0) > 0$. Для этого посчитаем сначала $f'(x), f''(x)$:\n",
    "\n",
    "$$f'(x) = 2x + \\sin x$$\n",
    "$$f''(x) = 2 + \\cos x$$\n",
    "\n",
    "Можно взять $x = \\frac{\\pi}{3}$. Тогда $f(\\pi/3)f''(\\pi/3) = (\\frac{\\pi^2}{3} - \\cos\\frac{\\pi}{3})(2 + \\cos(\\frac{\\pi}{3})) > 0$. То есть условие сходимости в этом случае выполняется.\n",
    "\n",
    "Заданная точность будет достигнута при \n",
    "\n",
    "$$|x_n - x_*| \\leq \\frac{M_2}{2m_1}(x_n - x_{n - 1})^2 < \\epsilon,$$\n",
    "где $M_2 = \\max\\limits_x |f''(x)| = 2 + \\frac{\\sqrt{3}}{2}$, $m_1 = \\min\\limits_x |f'(x)| = \\frac{\\pi}{3} + \\frac{1}{2}$. Тогда\n",
    "\n",
    "$$|x_n - x_{n - 1}| < \\sqrt{\\frac{2\\pi + 6}{12 + 3\\sqrt{3}}\\epsilon} \\approx 0.845\\sqrt{\\epsilon}.$$\n",
    "\n",
    "Напишем формулу метода Ньютона для уточнения корня:\n",
    "\n",
    "$$x_{n + 1} = x_n - \\frac{x_n^2 - \\cos x_n}{2x_n + \\sin x_n}$$\n",
    "\n",
    "Теперь протестируем формулу."
   ]
  },
  {
   "cell_type": "code",
   "execution_count": 25,
   "metadata": {},
   "outputs": [
    {
     "name": "stdout",
     "output_type": "stream",
     "text": [
      "number of iterations: 4\n",
      "stated precision: -10\n",
      "x_4: 0.8241323123025232\n",
      "True root: 0.82413231230252242296\n"
     ]
    }
   ],
   "source": [
    "from iter_process import epsilon_iter_process\n",
    "\n",
    "x_0 = np.pi/3\n",
    "sqrt_epsilon = 1e-5 # Точность 10 цифр\n",
    "\n",
    "x, iter_num = epsilon_iter_process(lambda x: x - (x ** 2 - np.cos(x))/(2 * x + np.sin(x)),\n",
    "                                   x_0 = x_0,\n",
    "                                   epsilon = 0.845161799 * sqrt_epsilon)\n",
    "print(f\"number of iterations: {iter_num}\")\n",
    "print(f\"stated precision: {np.floor(np.log10(np.abs(sqrt_epsilon ** 2))).astype(int)}\")\n",
    "print(f\"x_{iter_num}: {x}\")\n",
    "print(\"True root: 0.82413231230252242296\")"
   ]
  },
  {
   "cell_type": "markdown",
   "metadata": {},
   "source": [
    "Заметим, что, хоть требуемая точность и 10 цифр, полученный результат даёт точность в 14 цифр."
   ]
  },
  {
   "cell_type": "markdown",
   "metadata": {},
   "source": [
    "<center> <h1> Задача 3.2.35 </h1> </center>\n",
    "\n",
    "Для нахождения $a^{\\frac{1}{5}}$ предлагается использовать итерационный процесс $x_{n + 1} = Ax_n + \\frac{Ba}{x_n^4} + \\frac{Ca^2}{x_n^9}$. Найти значения параметров $A, B, C$, обеспечивающих максимальный порядок сходимости."
   ]
  },
  {
   "cell_type": "markdown",
   "metadata": {},
   "source": [
    "<center> <h1> Решение </h1> </center>\n",
    "\n",
    "Рассмотрим $\\phi(x) = Ax + \\frac{Ba}{x^4} + \\frac{Ca^2}{x^9}$.\n",
    "\n",
    "$$\\frac{\\phi(a^{\\frac{1}{5}})}{a^{\\frac{1}{5}}} = A + B + C = 1$$\n",
    "$$\\phi'(a^{\\frac{1}{5}}) = \\left(A - \\frac{4Ba}{x^5} - \\frac{9Ca^2}{x^{10}}\\right)|_{x = a^{\\frac{1}{5}}} = A - 4B - 9C = 0$$\n",
    "$$\\phi''(a^{\\frac{1}{5}}) = \\left(\\frac{20Ba}{x^6} + \\frac{90Ca^2}{x^{11}}\\right)|_{x = a^{\\frac{1}{5}}} = \\frac{20B}{a^{\\frac{1}{5}}} + \\frac{90C}{a^{\\frac{1}{5}}} = 0$$\n",
    "$$\\phi'''(a^{\\frac{1}{5}}) = \\left(-\\frac{120Ba}{x^7} - \\frac{990Ca^2}{x^{12}}\\right)|_{x = a^{\\frac{1}{5}}} = -\\frac{120B}{a^{\\frac{2}{5}}} -\\frac{990C}{a^{\\frac{2}{5}}} \\neq 0$$\n",
    "\n",
    "Откуда получим частное решение $A = \\frac{18}{25}; B = \\frac{9}{25}; C = -\\frac{2}{25}$. Максимальный порядок сходимости - 3.\n",
    "\n",
    "Протестируем полученные результаты."
   ]
  },
  {
   "cell_type": "code",
   "execution_count": 23,
   "metadata": {},
   "outputs": [
    {
     "name": "stdout",
     "output_type": "stream",
     "text": [
      "Iter_process result (4 iterations): 1.0192448764914566\n",
      "True result: 1.0192448764914566\n"
     ]
    }
   ],
   "source": [
    "a = np.longdouble(1.1)\n",
    "A = 18 / 25\n",
    "B = 9 / 25\n",
    "C = -2 / 25\n",
    "\n",
    "x = iter_process(lambda x: A * x  + B * a / (x ** 4) + C * (a ** 2) / (x ** 9), x_0 = a, iter_num = 10)\n",
    "print(f\"Iter_process result ({iter_num} iterations):\", x)\n",
    "print(\"True result:\", a ** (1/5))"
   ]
  },
  {
   "cell_type": "markdown",
   "metadata": {},
   "source": [
    "<center> <h1> Задача 3.2.36 </h1> </center>\n",
    "\n",
    "Определить порядок сходимости итерационного метода для нахождения корня $1 + \\sqrt{2}$ уравнения $x^2 - 2x - 1 = 0$:\n",
    "\n",
    "$$x_{n + 1} = \\frac{3}{8}x_n + \\frac{5}{8} + \\frac{3}{2(x_n - 1)} - \\frac{1}{2(x_n - 1)^3}.$$"
   ]
  },
  {
   "cell_type": "markdown",
   "metadata": {},
   "source": [
    "<center> <h1> Решение </h1> </center>\n",
    "\n",
    "Рассмотрим $\\phi(x) = \\frac{3}{8}x + \\frac{5}{8} + \\frac{3}{2(x - 1)} - \\frac{1}{2(x - 1)^3}$, $x_* = 1 + \\sqrt{2}$\n",
    "\n",
    "Имеем:\n",
    "\n",
    "$$\\phi(x_*) = 1 + \\frac{3}{8}\\sqrt{2} + \\frac{3}{2\\sqrt{2}} - \\frac{1}{4\\sqrt{2}} = 1 + \\frac{1}{8}\\left(3\\sqrt{2} + 6\\sqrt{2} - \\sqrt{2}\\right) = 1 + \\sqrt{2}$$\n",
    "$$\\phi'(x_*) = \\left(\\frac{3}{8} - \\frac{3}{2(x - 1)^2} + \\frac{3}{2(x - 1)^4}\\right)_{x = x_*} = 0$$\n",
    "$$\\phi''(x_*) = \\left(\\frac{3}{(x - 1)^3} - \\frac{6}{(x - 1)^5}\\right)_{x = x_*} = 0$$\n",
    "$$\\phi'''(x_*) = \\left(-\\frac{9}{(x - 1)^4} + \\frac{30}{(x - 1)^6}\\right)_{x = x_*} = -\\frac{9}{4} + \\frac{30}{8} = \\frac{3}{2} \\neq 0$$\n",
    "\n",
    "Т.е. предложенный итерационный метод имеет 3 порядок сходимости."
   ]
  },
  {
   "cell_type": "markdown",
   "metadata": {},
   "source": [
    "<center> <h1> Задача 3.2.44 </h1> </center>\n",
    "\n",
    "Предложить итерационный метод третьего порядка сходимости для нахождения корня $\\sqrt[3]{5} - 1$ уравнения:\n",
    "\n",
    "$$x^3 + 3x^2 + 3x - 4 = 0.$$"
   ]
  },
  {
   "cell_type": "markdown",
   "metadata": {},
   "source": [
    "<center> <h1> Решение </h1> </center>\n",
    "\n",
    "Для третьего порядка сходимости мы должны иметь следующее рекуррентное соотношение (при условиях непрерывности $f(x)$, существовании нужного числа производных на отрезке локализации и $f_x'(x) \\neq 0$ на нём):\n",
    "\n",
    "$$x_{n + 1} = x_n - \\frac{f_n}{(f_x')_n} - \\frac{(f_{xx}'')_n}{2(f_x')_n^3}f_n^2.$$\n",
    "\n",
    "Для нашей функции $f(x) = x^3 + 3x^2 + 3x - 4 = (x + 1)^3 - 5$ имеем\n",
    "\n",
    "$$x_{n + 1} = x_n - \\frac{(x_n + 1)^3 - 5}{3(x_n + 1)^2} - \\frac{6(x_n + 1)}{54(x_n + 1)^6}\\left((x_n + 1)^3 - 5\\right)^2 = $$\n",
    "$$ = x_n - \\frac{1}{3}(x_n + 1) + \\frac{5}{3(x_n + 1)^2} - \\frac{1}{9(x_n + 1)^5}\\left((x_n + 1)^6 - 10(x_n + 1)^3 + 25\\right) = \\frac{5}{9}x_n - \\frac{4}{9} + \\frac{25}{9(x_n + 1)^2} - \\frac{25}{9(x_n + 1)^5}$$\n",
    "\n",
    "Заметим, что в качестве отрезка локализации в данной задаче можно выбрать отрезок $[0, 1]$, в котором и лежит $x_*$. На этом отрезке по теореме Декарта есть только 1 корень, коим и является $x_*$."
   ]
  },
  {
   "cell_type": "markdown",
   "metadata": {},
   "source": [
    "<center> <h1> Задача 3.3.2 </h1> </center>\n",
    "\n",
    "Предложить метод простой итерации и проверить выполнение достаточного условия сходимости последовательных приближений к корню $x^* \\in [\\pi, 3\\pi/2]$; $y^* \\in [\\pi/4, \\pi/2]$ системы нелинейных уравнений:\n",
    "\n",
    "$$\n",
    "\\begin{cases}\n",
    "    x = \\tan{y} ,\\\\\n",
    "    y = \\tan{x} .\\\\\n",
    "\\end{cases}\n",
    "$$"
   ]
  },
  {
   "cell_type": "markdown",
   "metadata": {},
   "source": [
    "<center> <h1> Решение </h1> </center>\n",
    "\n",
    "$\\DeclareMathOperator{\\arccot}{arccot}$\n",
    "\n",
    "$$x = \\tan y = \\cot(\\frac{\\pi}{2} - y) \\iff y = \\frac{\\pi}{2} - \\arccot x$$\n",
    "$$y = \\tan x = \\cot(\\frac{3\\pi}{2} - x) \\iff x = \\frac{3\\pi}{2} - \\arccot y$$\n",
    "\n",
    "То есть итерационный процесс будет иметь вид:\n",
    "\n",
    "$$\n",
    "\\begin{cases}\n",
    "    x_{n + 1} = \\frac{3\\pi}{2} - \\arccot y_n \\\\\n",
    "    y_{n + 1} = \\frac{\\pi}{2} - \\arccot x_n \\\\\n",
    "\\end{cases}\n",
    "$$\n",
    "\n",
    "Матрица Якоби имеет вид:\n",
    "\n",
    "$$J = \n",
    "\\begin{bmatrix}\n",
    "    0 & \\frac{1}{1 + y^2}\\\\\n",
    "    \\frac{1}{1 + x^2}& 0 \\\\\n",
    "\\end{bmatrix}\n",
    "$$\n",
    "\n",
    "Для неё выполняется\n",
    "$$||J|| \\leq \\frac{1}{1 + \\pi^2} + \\frac{1}{1 + \\frac{\\pi^2}{16}} < 1$$\n",
    "\n",
    "То есть достаточное условие сходимости для предложенного итерационного процесса выполняется.\n",
    "\n",
    "Теперь протестируем наши результаты. В модуле ```numpy``` нет функции $\\arccot$, поэтому воспользуемся тем, что в рассматриваемых промежутках верно тождество $\\arccot{x} = \\arctan{\\frac{1}{x}}$."
   ]
  },
  {
   "cell_type": "code",
   "execution_count": 24,
   "metadata": {},
   "outputs": [
    {
     "name": "stdout",
     "output_type": "stream",
     "text": [
      "Iter_process solution: (4.067588865765862, 1.329731220678945)\n",
      "True solution: (4.067588865765862, 1.329731220678945)\n"
     ]
    }
   ],
   "source": [
    "x_0 = np.array([5 * np.pi / 4, 3 * np.pi / 4])\n",
    "iter_num = 100\n",
    "\n",
    "x, y = iter_process(lambda x: (3 * np.pi / 2, np.pi / 2) - np.arctan(1/x[::-1]), x_0 = x_0, iter_num = iter_num)\n",
    "print(f\"Iter_process solution: ({np.float64(x):.15f}, {np.float64(y):.15f})\")\n",
    "print(\"True solution: (4.067588865765862, 1.329731220678945)\")"
   ]
  },
  {
   "cell_type": "markdown",
   "metadata": {},
   "source": [
    "<center> <h1> Задача 3.3.8 </h1> </center>\n",
    "\n",
    "Написать формулу метода Ньютона для итерационного решения системы нелинейных уравнений \n",
    "\n",
    "$$\n",
    "\\begin{cases}\n",
    "    \\sin(x + y) - 1.5x = 0 ,\\\\\n",
    "    x^2 + y^2 = 1 .\\\\\n",
    "\\end{cases}\n",
    "$$"
   ]
  },
  {
   "cell_type": "markdown",
   "metadata": {},
   "source": [
    "<center> <h1> Решение </h1> </center>\n",
    "\n",
    "Матрица Якоби имеет вид:\n",
    "\n",
    "$$J = \n",
    "\\begin{bmatrix}\n",
    "    \\cos(x + y) - 1.5 & \\cos(x + y) \\\\\n",
    "    2x & 2y \\\\\n",
    "\\end{bmatrix}\n",
    "$$\n",
    "\n",
    "Тогда имеем следующую формулу для метода Ньютона:\n",
    "\n",
    "$$\n",
    "\\begin{bmatrix}\n",
    "    x_{n + 1} \\\\\n",
    "    y_{n + 1} \\\\\n",
    "\\end{bmatrix} \n",
    "=\n",
    "\\begin{bmatrix}\n",
    "    x_{n} \\\\\n",
    "    y_{n} \\\\\n",
    "\\end{bmatrix}\n",
    "- \\frac{1}{2(y_n - x_n)\\cos(x_n + y_n) - 3y_n}\n",
    "\\begin{bmatrix}\n",
    "    2y_n & -\\cos(x_n + y_n) \\\\\n",
    "    -2x_n & \\cos(x_n + y_n) - 1.5\\\\\n",
    "\\end{bmatrix}\n",
    "\\begin{bmatrix}\n",
    "    \\sin(x_n + y_n) - 1.5x_n \\\\\n",
    "    x_n^2 + y_n^2 - 1 \\\\\n",
    "\\end{bmatrix}\n",
    ".$$"
   ]
  },
  {
   "cell_type": "code",
   "execution_count": null,
   "metadata": {},
   "outputs": [],
   "source": []
  }
 ],
 "metadata": {
  "kernelspec": {
   "display_name": "Python 3",
   "language": "python",
   "name": "python3"
  },
  "language_info": {
   "codemirror_mode": {
    "name": "ipython",
    "version": 3
   },
   "file_extension": ".py",
   "mimetype": "text/x-python",
   "name": "python",
   "nbconvert_exporter": "python",
   "pygments_lexer": "ipython3",
   "version": "3.8.3"
  }
 },
 "nbformat": 4,
 "nbformat_minor": 4
}
